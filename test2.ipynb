{
 "cells": [
  {
   "cell_type": "markdown",
   "id": "a6994196-59d7-4767-8a7d-861e835c99a3",
   "metadata": {},
   "source": [
    "## TEST:2"
   ]
  },
  {
   "cell_type": "code",
   "execution_count": 2,
   "id": "cc18656e-f3e6-4ca8-9496-22701a992d87",
   "metadata": {},
   "outputs": [
    {
     "name": "stdout",
     "output_type": "stream",
     "text": [
      "2\n",
      "7\n"
     ]
    }
   ],
   "source": [
    " # 1. Find the 2nd largest and 2nd smallest element in a list.\n",
    "\n",
    "l = [1,3,2,5,2,7,6]\n",
    "s1 = set(l)\n",
    "l2 = list(s1)\n",
    "l2.sort()\n",
    "seecond_largest = l2[1]\n",
    "print(seecond_largest)\n",
    "seecond_smallest = l2[-1]\n",
    "print(seecond_smallest)\n",
    "\n"
   ]
  },
  {
   "cell_type": "code",
   "execution_count": 7,
   "id": "145e72e6-9fb4-4f55-8989-dad3f640fd8c",
   "metadata": {},
   "outputs": [
    {
     "data": {
      "text/plain": [
       "'march'"
      ]
     },
     "execution_count": 7,
     "metadata": {},
     "output_type": "execute_result"
    }
   ],
   "source": [
    "#2. Find the key with the largest value in a dictionary.\n",
    "\n",
    "d1 = {\"jan\": 31, \"feb\": 28, \"march\": 31, \"april\": 30}\n",
    "max(d1)"
   ]
  },
  {
   "cell_type": "code",
   "execution_count": 18,
   "id": "f0dd2555-0db6-45be-8beb-0040fc4a93d2",
   "metadata": {},
   "outputs": [
    {
     "ename": "FileNotFoundError",
     "evalue": "[WinError 2] The system cannot find the file specified: 'Downloads'",
     "output_type": "error",
     "traceback": [
      "\u001b[1;31m---------------------------------------------------------------------------\u001b[0m",
      "\u001b[1;31mFileNotFoundError\u001b[0m                         Traceback (most recent call last)",
      "Cell \u001b[1;32mIn[18], line 4\u001b[0m\n\u001b[0;32m      1\u001b[0m \u001b[38;5;66;03m#3. Create a new folder using os module and create a file inside it.\u001b[39;00m\n\u001b[0;32m      3\u001b[0m \u001b[38;5;28;01mimport\u001b[39;00m\u001b[38;5;250m \u001b[39m\u001b[38;5;21;01mos\u001b[39;00m\n\u001b[1;32m----> 4\u001b[0m os\u001b[38;5;241m.\u001b[39mchdir(\u001b[38;5;124m\"\u001b[39m\u001b[38;5;124mDownloads\u001b[39m\u001b[38;5;124m\"\u001b[39m)\n\u001b[0;32m      5\u001b[0m os\u001b[38;5;241m.\u001b[39mmkdir(\u001b[38;5;124m\"\u001b[39m\u001b[38;5;124mnew_folder\u001b[39m\u001b[38;5;124m\"\u001b[39m)\n\u001b[0;32m      6\u001b[0m os\u001b[38;5;241m.\u001b[39mchdir(\u001b[38;5;124m\"\u001b[39m\u001b[38;5;124mDownloads\u001b[39m\u001b[38;5;130;01m\\\\\u001b[39;00m\u001b[38;5;124mnew_folder\u001b[39m\u001b[38;5;124m\"\u001b[39m)\n",
      "\u001b[1;31mFileNotFoundError\u001b[0m: [WinError 2] The system cannot find the file specified: 'Downloads'"
     ]
    }
   ],
   "source": [
    "#3. Create a new folder using os module and create a file inside it.\n",
    "\n",
    "import os\n",
    "os.chdir(\"Downloads\")\n",
    "os.mkdir(\"new_folder\")\n",
    "os.chdir(\"Downloads\\\\new_folder\")\n",
    "os.mkdir(\"file.txt\")"
   ]
  },
  {
   "cell_type": "code",
   "execution_count": null,
   "id": "ff3f5b75-df06-4d4a-b6a1-da4bdf5c454b",
   "metadata": {},
   "outputs": [],
   "source": []
  },
  {
   "cell_type": "code",
   "execution_count": 11,
   "id": "c0539a94-2c8b-4798-951a-272e037e9587",
   "metadata": {},
   "outputs": [
    {
     "name": "stdin",
     "output_type": "stream",
     "text": [
      " 5\n"
     ]
    },
    {
     "name": "stdout",
     "output_type": "stream",
     "text": [
      "0 1 1 2 3 "
     ]
    }
   ],
   "source": [
    "#4. Write a recursive function to calculate Fibonacci series up to n terms.\n",
    "\n",
    "a,b = 0,1\n",
    "for i in range (int(input())):\n",
    "    print(a, end=\" \")\n",
    "    a,b = b, a+b"
   ]
  },
  {
   "cell_type": "code",
   "execution_count": 20,
   "id": "5177d793-8ba5-4578-9779-3e98c7454226",
   "metadata": {},
   "outputs": [
    {
     "name": "stdout",
     "output_type": "stream",
     "text": [
      "[1, 2, 3, 4, 5]\n",
      "cubes: [1, 8, 27, 64, 125]\n"
     ]
    }
   ],
   "source": [
    "#5. Use a lambda with map() to convert a list of integers into their cubes. \n",
    "\n",
    "numbers = [1, 2, 3, 4, 5]\n",
    "cubes = list(map(lambda x: x**3, numbers))\n",
    "print(numbers)\n",
    "print(f\"cubes: {cubes}\")"
   ]
  },
  {
   "cell_type": "code",
   "execution_count": 17,
   "id": "1b179890-d106-4e54-808d-1810a81506fe",
   "metadata": {},
   "outputs": [],
   "source": [
    "# 6. Create a class Employee that increases salary by 10%.\n",
    "\n"
   ]
  },
  {
   "cell_type": "code",
   "execution_count": null,
   "id": "62aa7239-8cec-4460-bf8f-41c75f42ad21",
   "metadata": {},
   "outputs": [],
   "source": []
  },
  {
   "cell_type": "code",
   "execution_count": 4,
   "id": "35da7003-f6b6-4d57-8db4-4c77524e8154",
   "metadata": {},
   "outputs": [],
   "source": [
    "# 7. Write a program to print the date 30 days from today. \n",
    "import datetime"
   ]
  },
  {
   "cell_type": "code",
   "execution_count": 5,
   "id": "46c4fc53-9280-473b-b472-f7376b674180",
   "metadata": {},
   "outputs": [],
   "source": [
    "from datetime import date\n",
    "today = date.today()"
   ]
  },
  {
   "cell_type": "code",
   "execution_count": 6,
   "id": "aa0f8b6b-75d8-471e-9d5d-67fffca59807",
   "metadata": {},
   "outputs": [
    {
     "data": {
      "text/plain": [
       "datetime.date(2025, 9, 16)"
      ]
     },
     "execution_count": 6,
     "metadata": {},
     "output_type": "execute_result"
    }
   ],
   "source": [
    "today"
   ]
  },
  {
   "cell_type": "code",
   "execution_count": 7,
   "id": "533304c9-e2e7-4ec7-9148-86a57c46dd4a",
   "metadata": {},
   "outputs": [
    {
     "ename": "TypeError",
     "evalue": "'module' object is not callable. Did you mean: 'datetime.datetime(...)'?",
     "output_type": "error",
     "traceback": [
      "\u001b[1;31m---------------------------------------------------------------------------\u001b[0m",
      "\u001b[1;31mTypeError\u001b[0m                                 Traceback (most recent call last)",
      "Cell \u001b[1;32mIn[7], line 1\u001b[0m\n\u001b[1;32m----> 1\u001b[0m fur_date \u001b[38;5;241m=\u001b[39m today \u001b[38;5;241m+\u001b[39m datetime(\u001b[38;5;241m30\u001b[39m)\n\u001b[0;32m      2\u001b[0m \u001b[38;5;28mprint\u001b[39m(fur_date)\n",
      "\u001b[1;31mTypeError\u001b[0m: 'module' object is not callable. Did you mean: 'datetime.datetime(...)'?"
     ]
    }
   ],
   "source": [
    "fur_date = today + datetime(30)\n",
    "print(fur_date)"
   ]
  },
  {
   "cell_type": "code",
   "execution_count": null,
   "id": "57357099-96e7-45e7-9f89-00f045391f08",
   "metadata": {},
   "outputs": [],
   "source": [
    "#8. Write a program to convert radians to degrees and vice versa. \n",
    "\n"
   ]
  },
  {
   "cell_type": "code",
   "execution_count": 17,
   "id": "41be896e-3fac-430e-9b3d-d028858c8cad",
   "metadata": {},
   "outputs": [],
   "source": [
    "\n",
    "\n",
    "#9.  Write a regex to validate if a string is a valid Indian mobile number (10 digits).\n",
    "\n"
   ]
  },
  {
   "cell_type": "code",
   "execution_count": null,
   "id": "817041e6-5848-4597-b8a2-c3762f2b6519",
   "metadata": {},
   "outputs": [],
   "source": [
    "#10. Create a class Bank with encapsulated methods to show account details securely. \n",
    "\n"
   ]
  }
 ],
 "metadata": {
  "kernelspec": {
   "display_name": "Python 3 (ipykernel)",
   "language": "python",
   "name": "python3"
  },
  "language_info": {
   "codemirror_mode": {
    "name": "ipython",
    "version": 3
   },
   "file_extension": ".py",
   "mimetype": "text/x-python",
   "name": "python",
   "nbconvert_exporter": "python",
   "pygments_lexer": "ipython3",
   "version": "3.13.5"
  }
 },
 "nbformat": 4,
 "nbformat_minor": 5
}
