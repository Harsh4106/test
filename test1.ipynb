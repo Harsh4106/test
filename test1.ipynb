{
 "cells": [
  {
   "cell_type": "code",
   "execution_count": 1,
   "id": "8eca38f9-b096-44fd-949c-1e8b378323d6",
   "metadata": {},
   "outputs": [
    {
     "name": "stdout",
     "output_type": "stream",
     "text": [
      "second largest number is:4\n"
     ]
    }
   ],
   "source": [
    "# 1. Write a program to find the second largest number in a list without using sort() or max() more than once.\n",
    "\n",
    "l1= [1,2,3,4,2,5,2,1,4]\n",
    "l1.sort()\n",
    "sec_largest = l1[-2]\n",
    "\n",
    "print(f\"second largest number is:{sec_largest}\")"
   ]
  },
  {
   "cell_type": "code",
   "execution_count": 19,
   "id": "cc93979a-516f-46d2-8637-4da3b0337e38",
   "metadata": {},
   "outputs": [
    {
     "name": "stdout",
     "output_type": "stream",
     "text": [
      "5\n"
     ]
    }
   ],
   "source": [
    "# 2. Missing Number in Range\n",
    "# Input: a list of unique numbers from 1 to n (with one missing). Find the missing number using loops only.\n",
    "# Example: [1, 2, 4, 5] → Output: 3\n",
    "\n",
    "l1 = [1,2,3,4,6]\n",
    "n = len(l1) + 1\n",
    "expected_sum = n * (n+1) // 2\n",
    "actual_sum = sum(l1)\n",
    "missing_sum = expected_sum - actual_sum\n",
    "print(missing_sum)"
   ]
  },
  {
   "cell_type": "code",
   "execution_count": 4,
   "id": "04116a9a-cc25-44d4-982c-a9cab7e53592",
   "metadata": {
    "scrolled": true
   },
   "outputs": [],
   "source": [
    "# 3. Count Consecutive Characters\n",
    "# For a given string, count consecutive repeating characters and compress it.\n",
    "\n",
    "\n",
    "str1 = \"hello\"\n",
    "vowel = \"aeiou\"\n",
    "c_count = 0\n",
    "s_count = 0\n",
    "\n",
    "for i in str:\n",
    "    if i.isaplha():\n",
    "        if\n",
    "    "
   ]
  },
  {
   "cell_type": "code",
   "execution_count": 3,
   "id": "15b9235b-5b42-4b53-a37f-bf1704fdcd88",
   "metadata": {},
   "outputs": [],
   "source": [
    "# 4. Check Balanced String\n",
    "# A string is balanced if the number of vowels equals the number of consonants.\n",
    "# Example: \"code\" → Balanced (2 vowels, 2 consonants).\t\n",
    "\n"
   ]
  },
  {
   "cell_type": "code",
   "execution_count": 2,
   "id": "b0f1ad33-fffc-4297-bffe-258b62becb53",
   "metadata": {},
   "outputs": [
    {
     "name": "stdout",
     "output_type": "stream",
     "text": [
      "3 0 4 "
     ]
    }
   ],
   "source": [
    "# 5. List Element Difference\n",
    "# Given a list, create a new list where each element is the difference between the largest element and the current element.\n",
    "# Example: [4, 7, 2] → [3, 0, 5]\n",
    "\n",
    "mu_list = [4,7,3]\n",
    "for i in mu_list:\n",
    "    list =  max(mu_list) - i\n",
    "    print(list, end= \" \")\n"
   ]
  },
  {
   "cell_type": "code",
   "execution_count": 20,
   "id": "d7f67b90-f9da-4795-8470-653012034ca7",
   "metadata": {},
   "outputs": [
    {
     "name": "stdout",
     "output_type": "stream",
     "text": [
      "861254\n"
     ]
    }
   ],
   "source": [
    "# 6. Digit Rearrangement\n",
    "# Take an integer and rearrange its digits in descending order.\n",
    "# Example: 42153 → 54321\n",
    "\n",
    "my_int = 452168\n",
    "my_str= str(my_int)\n",
    "my_int = int(my_str[::-1])\n",
    "print(my_int)"
   ]
  },
  {
   "cell_type": "code",
   "execution_count": 14,
   "id": "cec89c5a-0495-473e-8129-38bc35a6f6fd",
   "metadata": {},
   "outputs": [
    {
     "name": "stdout",
     "output_type": "stream",
     "text": [
      "Sum of even: 1\n",
      "Sum of odd: 2\n",
      "Sum of even: 4\n",
      "Sum of odd: 6\n",
      "Sum of even: 9\n",
      "Sum of odd: 12\n",
      "Sum of even: 16\n",
      "Sum of odd: 20\n",
      "odd is larger.\n"
     ]
    }
   ],
   "source": [
    "# 7. Sum of Alternate Numbers\n",
    "# Given a list of integers, find the sum of elements at even indices and at odd indices separately, then print which sum is larger.\n",
    "\n",
    "\n",
    "my_list = [1, 2, 3, 4, 5, 6, 7, 8] \n",
    "even = 0\n",
    "odd = 0\n",
    "\n",
    "for i, j in enumerate(my_list):  \n",
    "    if i % 2 == 0: \n",
    "        even = even + j\n",
    "        print(f\"Sum of even: {even}\")\n",
    "    else:\n",
    "        odd = odd + j\n",
    "        print(f\"Sum of odd: {odd}\")\n",
    "if even > odd:\n",
    "    print(\"even is larger.\")\n",
    "elif odd > even:\n",
    "    print(\"odd is larger.\")\n",
    "else:\n",
    "    print(\"Both sums are equal.\")"
   ]
  },
  {
   "cell_type": "code",
   "execution_count": 23,
   "id": "37923c52-3672-4696-8434-5d2f024d8e63",
   "metadata": {},
   "outputs": [
    {
     "name": "stdout",
     "output_type": "stream",
     "text": [
      "[1, 2, 3, 4, 5]\n"
     ]
    }
   ],
   "source": [
    "# 8. Flatten a Nested List\n",
    "# Without using libraries, flatten a 2D list into a 1D list.\n",
    "# Example: [[1,2], [3,4], [5]] → [1,2,3,4,5]\n",
    "\n",
    "l1 = [[1,2], [3,4], [5]]\n",
    "l2  = []\n",
    "for i in l1:\n",
    "    for j in i:\n",
    "        l2 = l2 + [j]\n",
    "print(l2)"
   ]
  },
  {
   "cell_type": "code",
   "execution_count": null,
   "id": "b85f72b8-93ee-4c45-a2f1-38809882102e",
   "metadata": {},
   "outputs": [],
   "source": []
  },
  {
   "cell_type": "code",
   "execution_count": 16,
   "id": "ba9d6ffc-1a16-4083-9d32-ba0800b112f6",
   "metadata": {},
   "outputs": [],
   "source": [
    "# 9. First Non-Repeating Character\n",
    "# Find the first non-repeating character in a string.\n",
    "# Example: \"swiss\" → \"w\"\n",
    "\n"
   ]
  },
  {
   "cell_type": "code",
   "execution_count": null,
   "id": "df27261c-0a79-4393-aae6-b445f2b15429",
   "metadata": {},
   "outputs": [],
   "source": []
  },
  {
   "cell_type": "code",
   "execution_count": 3,
   "id": "1b02474e-e05a-4c51-8472-d4e395092495",
   "metadata": {},
   "outputs": [
    {
     "name": "stdout",
     "output_type": "stream",
     "text": [
      "2\n",
      "4\n",
      "4\n"
     ]
    }
   ],
   "source": [
    "# 10. Intersection of Two Lists\n",
    "# Without using set(), find common elements between two lists.\n",
    "\n",
    "\n",
    "\n",
    "l1 =[1,2,3,4,5]\n",
    "l2 = [2,4,6]\n",
    "for i in l1:\n",
    "    for j in l2:\n",
    "        if j == i:\n",
    "            print(j)"
   ]
  },
  {
   "cell_type": "code",
   "execution_count": null,
   "id": "7fdaa662-bb2b-4b0e-81f4-c0853a5204bd",
   "metadata": {},
   "outputs": [],
   "source": [
    "# 11. Count Words Starting with Vowel\n",
    "# Given a sentence, count how many words start with a vowel.\n",
    "# Example: \"An elephant is under a tree\" → 3\n",
    "\n",
    "str1 = \"An elephant is under a tree\"\n"
   ]
  },
  {
   "cell_type": "code",
   "execution_count": null,
   "id": "b53d65fb-d49b-4471-adb0-78cac039dc56",
   "metadata": {},
   "outputs": [],
   "source": [
    "# 12. Pattern with Conditions\n",
    "# Print a pyramid of numbers where each row contains only odd numbers up to n.\n",
    "# Example (n=5):\n",
    "\n",
    "#   1\n",
    "#  3 5\n",
    "# 7 9 11\n",
    "\n",
    "\n"
   ]
  },
  {
   "cell_type": "markdown",
   "id": "b7a012a4-3c57-4162-903f-9d90fc0975f5",
   "metadata": {},
   "source": [
    "#### "
   ]
  },
  {
   "cell_type": "raw",
   "id": "96d0d59e-7d63-462e-b5fc-f3de6e0836f3",
   "metadata": {},
   "source": [
    "# 1. Second Largest Without Sorting\n",
    "nums = [10, 5, 8, 20, 15]\n",
    "largest = max(nums)         # find largest once\n",
    "second = float('-inf')\n",
    "for n in nums:\n",
    "    if n != largest and n > second:\n",
    "        second = n\n",
    "print(\"Second Largest:\", second)\n",
    "\n",
    "\n",
    "\n",
    "# 2. Missing Number in Range\n",
    "nums = [1, 2, 4, 5]\n",
    "n = 5   # total numbers should be from 1 to 5\n",
    "expected_sum = n * (n + 1) // 2\n",
    "actual_sum = 0\n",
    "for x in nums:\n",
    "    actual_sum += x\n",
    "print(\"Missing Number:\", expected_sum - actual_sum)\n",
    "\n",
    "\n",
    "\n",
    "# 3. Count Consecutive Characters (String Compression)\n",
    "s = \"aaabbccccd\"\n",
    "result = \"\"\n",
    "count = 1\n",
    "for i in range(1, len(s)):\n",
    "    if s[i] == s[i-1]:\n",
    "        count += 1\n",
    "    else:\n",
    "        result += s[i-1] + str(count)\n",
    "        count = 1\n",
    "        \n",
    "result += s[-1] + str(count)   # add last group\n",
    "print(\"Compressed:\", result)\n",
    "\n",
    "\n",
    "\n",
    "# 4. Check Balanced String\n",
    "s = \"coode\".lower()\n",
    "vowels = \"aeiou\"\n",
    "vowel_count = 0\n",
    "consonant_count = 0\n",
    "\n",
    "for ch in s:\n",
    "    if ch.isalpha():\n",
    "        if ch in vowels:\n",
    "            vowel_count += 1\n",
    "        else:\n",
    "            consonant_count += 1\n",
    "\n",
    "if vowel_count == consonant_count:\n",
    "    print(\"Balanced\")\n",
    "else:\n",
    "    print(\"Not Balanced\")\n",
    "    \n",
    "    \n",
    "    \n",
    "    \n",
    "# 5. List Element Difference\n",
    "nums = [4, 7, 2]\n",
    "largest = max(nums)\n",
    "diff_list = []\n",
    "for n in nums:\n",
    "    diff_list.append(largest - n)\n",
    "print(\"Difference List:\", diff_list)\n",
    "\n",
    "\n",
    "\n",
    "\n",
    "# 6. Digit Rearrangement\n",
    "num = 4256153\n",
    "digits = list(str(num))\n",
    "digits.sort(reverse=True)\n",
    "new_num = int(\"\".join(digits))\n",
    "print(\"Rearranged Number:\", new_num)\n",
    "\n",
    "\n",
    "# 7. Sum of Alternate Numbers\n",
    "nums = [10, 20, 30, 40, 50]\n",
    "even_sum = 0\n",
    "odd_sum = 0\n",
    "\n",
    "for i in range( len(nums)):\n",
    "    if i % 2 == 0:\n",
    "        even_sum += nums[i]\n",
    "    else:\n",
    "        odd_sum += nums[i]\n",
    "\n",
    "if even_sum > odd_sum:\n",
    "    print(\"Even Index Sum is larger:\", even_sum)\n",
    "else:\n",
    "    print(\"Odd Index Sum is larger:\", odd_sum)\n",
    "    \n",
    "    \n",
    "    \n",
    "    \n",
    "# 8. Flatten a Nested List\n",
    "nested = [[1,2], [3,4], [5]]\n",
    "flat = []\n",
    "for sublist in nested:\n",
    "    for item in sublist:\n",
    "        flat.append(item)\n",
    "print(\"Flattened List:\", flat)\n",
    "\n",
    "\n",
    "\n",
    "# 9. First Non-Repeating Character\n",
    "s = \"swwiss\"\n",
    "for ch in s:\n",
    "    if s.count(ch) == 1:\n",
    "        print(\"First Non-Repeating:\", ch)\n",
    "        break\n",
    "        \n",
    "        \n",
    "        \n",
    "# 10. Intersection of Two Lists (without set)\n",
    "list1 = [1, 2, 3,4,  4, 5]\n",
    "list2 = [4, 5, 6, 7]\n",
    "common = []\n",
    "for x in list1:\n",
    "    if x in list2 and x not in common:\n",
    "        common.append(x)\n",
    "print(\"Intersection:\", common)\n",
    "\n",
    "\n",
    "\n",
    "# 11. Count Words Starting with Vowel\n",
    "sentence = \"An elephant is under a tree\"\n",
    "words = sentence.split()\n",
    "vowels = \"aeiouAEIOU\"\n",
    "count = 0\n",
    "for w in words:\n",
    "    if w[0] in vowels:\n",
    "        count += 1\n",
    "print(\"Words starting with vowel:\", count)\n",
    "\n",
    "\n",
    "\n",
    "# 12. Pattern with Conditions (Odd Numbers Pyramid)\n",
    "n = 5\n",
    "num = 1\n",
    "for i in range(1, n+1):\n",
    "    row = []\n",
    "    for j in range(i):\n",
    "        row.append(str(num))\n",
    "        num += 2   # only odd numbers\n",
    "    print(\" \".join(row).center(n*3))\n"
   ]
  },
  {
   "cell_type": "code",
   "execution_count": null,
   "id": "847870a2-aa41-4bca-aa90-6ef86af53fcb",
   "metadata": {},
   "outputs": [],
   "source": []
  },
  {
   "cell_type": "code",
   "execution_count": null,
   "id": "cc0fd611-6069-4624-9f9f-b3b2de4bb13c",
   "metadata": {},
   "outputs": [],
   "source": []
  }
 ],
 "metadata": {
  "kernelspec": {
   "display_name": "Python 3 (ipykernel)",
   "language": "python",
   "name": "python3"
  },
  "language_info": {
   "codemirror_mode": {
    "name": "ipython",
    "version": 3
   },
   "file_extension": ".py",
   "mimetype": "text/x-python",
   "name": "python",
   "nbconvert_exporter": "python",
   "pygments_lexer": "ipython3",
   "version": "3.13.5"
  }
 },
 "nbformat": 4,
 "nbformat_minor": 5
}
