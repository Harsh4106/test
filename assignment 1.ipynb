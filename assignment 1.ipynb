{
 "cells": [
  {
   "cell_type": "markdown",
   "id": "3c59596b-d122-4545-84eb-469da3a0a572",
   "metadata": {
    "jp-MarkdownHeadingCollapsed": true
   },
   "source": [
    "## 01. String\n"
   ]
  },
  {
   "cell_type": "raw",
   "id": "f9275167-2de6-42f0-89e8-5df9edfd3075",
   "metadata": {},
   "source": []
  },
  {
   "cell_type": "code",
   "execution_count": 2,
   "id": "4048fdc5-e58f-4c52-a55f-54896606426e",
   "metadata": {},
   "outputs": [
    {
     "name": "stdin",
     "output_type": "stream",
     "text": [
      " 12321\n"
     ]
    },
    {
     "name": "stdout",
     "output_type": "stream",
     "text": [
      "yes\n"
     ]
    }
   ],
   "source": [
    "#1. Check if a given string is a palindrome.\n",
    "\n",
    "text = (input())\n",
    "text = text.lower()\n",
    "text1 = text[::-1]\n",
    "if text == text1:\n",
    "    print(\"yes\")\n",
    "else:\n",
    "    print(\"no\")"
   ]
  },
  {
   "cell_type": "code",
   "execution_count": 2,
   "id": "22e122bb-7a54-4093-a60f-ae290c2b52ce",
   "metadata": {},
   "outputs": [
    {
     "name": "stdout",
     "output_type": "stream",
     "text": [
      "{'a': 1, 'e': 1, 'i': 1, 'o': 1, 'u': 1}\n"
     ]
    }
   ],
   "source": [
    "#2. Count the number of vowels in a string and store the result in a dictionary.\n",
    "\n",
    "s = 'education'\n",
    "vowel = \"aeiou\"\n",
    "count = {v:s.count(v) for v in vowel}\n",
    "print(count)"
   ]
  },
  {
   "cell_type": "code",
   "execution_count": 3,
   "id": "7057f246-7919-43e3-af14-b7a99cd22e93",
   "metadata": {},
   "outputs": [
    {
     "data": {
      "text/plain": [
       "'Convert The First Letter Of Each Word In A String To Uppercase'"
      ]
     },
     "execution_count": 3,
     "metadata": {},
     "output_type": "execute_result"
    }
   ],
   "source": [
    "#3. Convert the first letter of each word in a string to uppercase (title case manually).\n",
    "\n",
    "str = \"Convert the first letter of each word in a string to uppercase\"\n",
    "str.title()"
   ]
  },
  {
   "cell_type": "code",
   "execution_count": null,
   "id": "168494a3-1a39-40b5-bbc9-a54526d1e6ed",
   "metadata": {},
   "outputs": [],
   "source": []
  },
  {
   "cell_type": "code",
   "execution_count": 4,
   "id": "fb52a46b-3f05-440c-b858-beb076201e9b",
   "metadata": {},
   "outputs": [
    {
     "ename": "IndentationError",
     "evalue": "unindent does not match any outer indentation level (<string>, line 18)",
     "output_type": "error",
     "traceback": [
      "\u001b[1;36m  File \u001b[1;32m<string>:18\u001b[1;36m\u001b[0m\n\u001b[1;33m    return most_frequent_char\u001b[0m\n\u001b[1;37m                             ^\u001b[0m\n\u001b[1;31mIndentationError\u001b[0m\u001b[1;31m:\u001b[0m unindent does not match any outer indentation level\n"
     ]
    }
   ],
   "source": [
    "#4. Find the most frequently occurring character in a string.\n",
    "\n",
    "def find_most_frequent_character(input_string):\n",
    "    char_counts = {}\n",
    "    for char in input_string:\n",
    "        char_counts[char] = char_counts.get(char, 0) + 1\n",
    "\n",
    "    if not char_counts:  # Handle empty string case\n",
    "        return None\n",
    "\n",
    "    max_frequency = 0\n",
    "    most_frequent_char = ''\n",
    "\n",
    "    for char, count in char_counts.items():\n",
    "        if count > max_frequency:\n",
    "            max_frequency = count\n",
    "            most_frequent_char = char\n",
    "      return most_frequent_char\n",
    "\n"
   ]
  },
  {
   "cell_type": "code",
   "execution_count": null,
   "id": "ffc73bb0-8a5a-40ee-8954-9159a2de0264",
   "metadata": {},
   "outputs": [],
   "source": []
  },
  {
   "cell_type": "code",
   "execution_count": 3,
   "id": "7d036ada-686d-4165-83d2-6ba672d73101",
   "metadata": {},
   "outputs": [
    {
     "name": "stdin",
     "output_type": "stream",
     "text": [
      " gurpreet2120@#$\n"
     ]
    },
    {
     "ename": "SyntaxError",
     "evalue": "'return' outside function (741997405.py, line 15)",
     "output_type": "error",
     "traceback": [
      "\u001b[1;36m  Cell \u001b[1;32mIn[3], line 15\u001b[1;36m\u001b[0m\n\u001b[1;33m    return(alphabets, digits, specical_char)\u001b[0m\n\u001b[1;37m    ^\u001b[0m\n\u001b[1;31mSyntaxError\u001b[0m\u001b[1;31m:\u001b[0m 'return' outside function\n"
     ]
    }
   ],
   "source": [
    "#5. Count digits, alphabets, and special characters separately in a string\n",
    "\n",
    "str = (input())\n",
    "alphabets = 0\n",
    "digits = 0 \n",
    "specical_char = 0\n",
    "\n",
    "for i in str:\n",
    "    if i.isalpha():\n",
    "        alphabets =+ 1\n",
    "    elif i.isdigit():\n",
    "        digits += 1\n",
    "    else:\n",
    "        specical_char =+ 1\n",
    "return(alphabets, digits, specical_char)"
   ]
  },
  {
   "cell_type": "code",
   "execution_count": null,
   "id": "380e1f5f-72f5-48ba-8ffb-cbba0866bad3",
   "metadata": {},
   "outputs": [],
   "source": []
  },
  {
   "cell_type": "markdown",
   "id": "80aa106c-cd74-4872-a018-5ac7bf7ddb6a",
   "metadata": {
    "jp-MarkdownHeadingCollapsed": true
   },
   "source": [
    "## 02. List\n"
   ]
  },
  {
   "cell_type": "raw",
   "id": "eed67c28-e2d3-4984-b700-65d688d554d1",
   "metadata": {},
   "source": [
    "\n"
   ]
  },
  {
   "cell_type": "code",
   "execution_count": 9,
   "id": "92870591-561d-4ab0-9d6d-65df0a3eb7dc",
   "metadata": {},
   "outputs": [
    {
     "name": "stdout",
     "output_type": "stream",
     "text": [
      "[1, 2, 3, 4, 5]\n"
     ]
    }
   ],
   "source": [
    "#6. Remove duplicate elements from a list without using set().\n",
    "\n",
    "def remove_duplicates(lst):\n",
    "    unique_list = []\n",
    "    for item in lst:\n",
    "        if item not in unique_list:\n",
    "            unique_list.append(item)\n",
    "    return unique_list\n",
    "nums = [1, 2, 3, 2, 4, 1, 5, 3]\n",
    "print(remove_duplicates(nums))  "
   ]
  },
  {
   "cell_type": "code",
   "execution_count": 10,
   "id": "0ed2db17-af8a-4185-825e-e760c0cfd242",
   "metadata": {},
   "outputs": [
    {
     "name": "stdout",
     "output_type": "stream",
     "text": [
      "[5, 4, 3, 2, 1]\n"
     ]
    }
   ],
   "source": [
    "#7. Reverse a list without using built-in functions.                    \n",
    "\n",
    "\n",
    "l1 = [1, 2, 3, 4, 5]\n",
    "l1[::-1]\n",
    "l1.sort(reverse=True)\n",
    "print(l1)"
   ]
  },
  {
   "cell_type": "code",
   "execution_count": null,
   "id": "58697ed8-2d02-44e1-9f3d-8c843e7330ea",
   "metadata": {},
   "outputs": [],
   "source": []
  },
  {
   "cell_type": "code",
   "execution_count": 14,
   "id": "23cca667-6985-4c6c-b9c7-e518690ea3e1",
   "metadata": {},
   "outputs": [
    {
     "name": "stdout",
     "output_type": "stream",
     "text": [
      "2nd Smallest: 4\n",
      "2nd Largest: 9\n"
     ]
    }
   ],
   "source": [
    "#8. Find the 2nd largest and 2nd smallest element in a list.\n",
    "\n",
    "nums = [10, 4, 7, 2, 9, 2, 10, 5]\n",
    "my_set = set(nums)   #convert into set\n",
    "my_list = list(my_set)  #back into list\n",
    "print(my_list)\n",
    "my_list.sort()\n",
    "second_smallest = my_list[1]\n",
    "print(second_smallest)\n",
    "second_large = my_list[-1]\n",
    "print(second_large)"
   ]
  },
  {
   "cell_type": "code",
   "execution_count": null,
   "id": "53079f3a-73cf-4cba-a127-cbf9994c0975",
   "metadata": {},
   "outputs": [],
   "source": []
  },
  {
   "cell_type": "code",
   "execution_count": 1,
   "id": "c96ed206-0530-4057-b63a-8fd796f20847",
   "metadata": {},
   "outputs": [
    {
     "name": "stdout",
     "output_type": "stream",
     "text": [
      "[1, 4, 9, 16, 25, 36, 49, 64]\n"
     ]
    }
   ],
   "source": [
    "#9. Store the square of each element of a list into a new list (using list comprehension).\n",
    "\n",
    "\n",
    "l2 = [1, 2, 3, 4, 5,6,7,8]\n",
    "l2 = [i**2 for i in l2]\n",
    "print(l2)\n"
   ]
  },
  {
   "cell_type": "code",
   "execution_count": null,
   "id": "cff745af-64ae-4ab2-8236-c6a4439a2efb",
   "metadata": {},
   "outputs": [],
   "source": []
  },
  {
   "cell_type": "code",
   "execution_count": 1,
   "id": "b9f110e7-6949-46db-a3cc-09ef60d54b14",
   "metadata": {},
   "outputs": [
    {
     "ename": "TypeError",
     "evalue": "list.append() takes exactly one argument (0 given)",
     "output_type": "error",
     "traceback": [
      "\u001b[1;31m---------------------------------------------------------------------------\u001b[0m",
      "\u001b[1;31mTypeError\u001b[0m                                 Traceback (most recent call last)",
      "Cell \u001b[1;32mIn[1], line 6\u001b[0m\n\u001b[0;32m      4\u001b[0m \u001b[38;5;28;01mfor\u001b[39;00m i \u001b[38;5;129;01min\u001b[39;00m l1:\n\u001b[0;32m      5\u001b[0m     \u001b[38;5;28;01mfor\u001b[39;00m j \u001b[38;5;129;01min\u001b[39;00m i:\n\u001b[1;32m----> 6\u001b[0m         \u001b[38;5;28mlist\u001b[39m\u001b[38;5;241m.\u001b[39mappend(i)\n\u001b[0;32m      7\u001b[0m     \u001b[38;5;28mprint\u001b[39m (l1)\n",
      "\u001b[1;31mTypeError\u001b[0m: list.append() takes exactly one argument (0 given)"
     ]
    }
   ],
   "source": [
    "#10. Flatten a nested list into a single list.\n",
    "\n",
    "l1= [[1,2], [3,4], [5,6]]\n",
    "for i in l1:\n",
    "    for j in i:\n",
    "        list.append(i)\n",
    "    print (l1)        "
   ]
  },
  {
   "cell_type": "markdown",
   "id": "b8238336-072f-4844-9167-9c3a87602abe",
   "metadata": {
    "jp-MarkdownHeadingCollapsed": true
   },
   "source": [
    "## 3. Tuple"
   ]
  },
  {
   "cell_type": "raw",
   "id": "eed6278b-74f0-41fe-a7b2-81f9e6e85bcf",
   "metadata": {},
   "source": []
  },
  {
   "cell_type": "code",
   "execution_count": 18,
   "id": "4b2ced0f-98ce-48e9-b413-2292789a8b79",
   "metadata": {},
   "outputs": [
    {
     "name": "stdout",
     "output_type": "stream",
     "text": [
      "('n', 'o', 'h', 't', 'y', 'p')\n"
     ]
    }
   ],
   "source": [
    "# 11. Reverse a tuple without using [::-1].\n",
    "\n",
    "l1 = ('p', 'y', 't', 'h', 'o', 'n')\n",
    "rev = tuple(reversed(l1))\n",
    "print(rev)"
   ]
  },
  {
   "cell_type": "code",
   "execution_count": null,
   "id": "b72774ed-d42d-4d5b-8c79-2df3e6b6e7f3",
   "metadata": {},
   "outputs": [],
   "source": []
  },
  {
   "cell_type": "code",
   "execution_count": 1,
   "id": "1858bf04-6c96-4699-9428-ef8328b52dd5",
   "metadata": {},
   "outputs": [
    {
     "name": "stdout",
     "output_type": "stream",
     "text": [
      "[40, 10, 50, 20, 30]\n"
     ]
    }
   ],
   "source": [
    "#12. Extract unique elements from a tuple and store them in a new list.\n",
    "\n",
    "t = (10, 20, 30, 20, 40, 10, 50)\n",
    "\n",
    "unique_list = list(set(t))\n",
    "print( unique_list)\n"
   ]
  },
  {
   "cell_type": "code",
   "execution_count": null,
   "id": "f30366d9-3070-45b0-bcb7-8a01bca2ba4c",
   "metadata": {},
   "outputs": [],
   "source": []
  },
  {
   "cell_type": "code",
   "execution_count": 16,
   "id": "642e5f30-e10e-4f97-b702-040a639eb11c",
   "metadata": {},
   "outputs": [
    {
     "name": "stdout",
     "output_type": "stream",
     "text": [
      "{1, 2, 3, 6, 40, 10, 45, 50, 20, 30}\n"
     ]
    }
   ],
   "source": [
    "#13. Concatenate two tuples and sort them.\n",
    "\n",
    "t = (10, 20, 30, 40, 50)\n",
    "u = (1,2,3,45,6)\n",
    "x = t+u\n",
    "s = set(x)\n",
    "print(s)"
   ]
  },
  {
   "cell_type": "code",
   "execution_count": null,
   "id": "a774163e-abcb-42c6-8a57-62e289ee6fa7",
   "metadata": {},
   "outputs": [],
   "source": []
  },
  {
   "cell_type": "code",
   "execution_count": 6,
   "id": "5644998f-c9dc-41f5-8c8b-c568744dd984",
   "metadata": {},
   "outputs": [
    {
     "name": "stdout",
     "output_type": "stream",
     "text": [
      "3\n"
     ]
    }
   ],
   "source": [
    "#14. Count the frequency of an element in a tuple without using count().\n",
    "\n",
    "t = (1,2,3,2,3,2)\n",
    "elem=2 \n",
    "count = sum(1 for x in t if x ==elem)\n",
    "print(count)"
   ]
  },
  {
   "cell_type": "code",
   "execution_count": null,
   "id": "08182909-fbcc-4758-8975-1273a096dfe7",
   "metadata": {},
   "outputs": [],
   "source": []
  },
  {
   "cell_type": "code",
   "execution_count": 1,
   "id": "02199220-405d-4112-aced-7fc08e380299",
   "metadata": {},
   "outputs": [
    {
     "ename": "NameError",
     "evalue": "name 'i' is not defined",
     "output_type": "error",
     "traceback": [
      "\u001b[1;31m---------------------------------------------------------------------------\u001b[0m",
      "\u001b[1;31mNameError\u001b[0m                                 Traceback (most recent call last)",
      "Cell \u001b[1;32mIn[1], line 3\u001b[0m\n\u001b[0;32m      1\u001b[0m \u001b[38;5;66;03m#15. From a tuple of numbers, create two tuples: one with even numbers and one with odd numbers.\u001b[39;00m\n\u001b[0;32m      2\u001b[0m t \u001b[38;5;241m=\u001b[39m (\u001b[38;5;241m1\u001b[39m,\u001b[38;5;241m2\u001b[39m,\u001b[38;5;241m3\u001b[39m,\u001b[38;5;241m4\u001b[39m,\u001b[38;5;241m5\u001b[39m,\u001b[38;5;241m6\u001b[39m,\u001b[38;5;241m7\u001b[39m,\u001b[38;5;241m8\u001b[39m,\u001b[38;5;241m9\u001b[39m,\u001b[38;5;241m10\u001b[39m,\u001b[38;5;241m11\u001b[39m,\u001b[38;5;241m12\u001b[39m,\u001b[38;5;241m13\u001b[39m,\u001b[38;5;241m14\u001b[39m,\u001b[38;5;241m15\u001b[39m)\n\u001b[1;32m----> 3\u001b[0m even \u001b[38;5;241m=\u001b[39m (i \u001b[38;5;28;01mfor\u001b[39;00m i \u001b[38;5;129;01min\u001b[39;00m t \u001b[38;5;129;01min\u001b[39;00m i\u001b[38;5;241m%\u001b[39m\u001b[38;5;241m2\u001b[39m\u001b[38;5;241m==\u001b[39m\u001b[38;5;241m0\u001b[39m)\n\u001b[0;32m      4\u001b[0m odd \u001b[38;5;241m=\u001b[39m  (i \u001b[38;5;28;01mfor\u001b[39;00m i \u001b[38;5;129;01min\u001b[39;00m t \u001b[38;5;129;01min\u001b[39;00m i\u001b[38;5;241m%\u001b[39m\u001b[38;5;241m2\u001b[39m\u001b[38;5;241m!=\u001b[39m\u001b[38;5;241m0\u001b[39m)\n",
      "\u001b[1;31mNameError\u001b[0m: name 'i' is not defined"
     ]
    }
   ],
   "source": [
    "#15. From a tuple of numbers, create two tuples: one with even numbers and one with odd numbers.\n",
    "t = (1,2,3,4,5,6,7,8,9,10,11,12,13,14,15)\n",
    "even = (i for i in t in i%2==0)\n",
    "odd =  (i for i in t in i%2!=0) "
   ]
  },
  {
   "cell_type": "markdown",
   "id": "ea0ae3ca-b49f-4549-a9b6-d80e3c2c91e2",
   "metadata": {
    "jp-MarkdownHeadingCollapsed": true
   },
   "source": [
    "## 4. SET"
   ]
  },
  {
   "cell_type": "code",
   "execution_count": null,
   "id": "0e249a1c-c360-4a7d-976a-1a27baef5a17",
   "metadata": {},
   "outputs": [],
   "source": []
  },
  {
   "cell_type": "code",
   "execution_count": 1,
   "id": "9d3c4664-a67c-4bb9-bcdc-02e8f8270f36",
   "metadata": {},
   "outputs": [
    {
     "data": {
      "text/plain": [
       "{1, 2, 3, 4, 5, 6}"
      ]
     },
     "execution_count": 1,
     "metadata": {},
     "output_type": "execute_result"
    }
   ],
   "source": [
    "# 16. Perform union, intersection, and difference of two sets without using built-in operators.\n",
    "# union\n",
    "s1 = {1,2,3,4,5}\n",
    "s2 = {2,4,6}\n",
    "\n",
    "s1|s2"
   ]
  },
  {
   "cell_type": "code",
   "execution_count": 4,
   "id": "4e2e3d2b-50d7-4dff-b54f-0d50e01465de",
   "metadata": {},
   "outputs": [
    {
     "name": "stdout",
     "output_type": "stream",
     "text": [
      "[2]\n",
      "[2, 4]\n"
     ]
    }
   ],
   "source": [
    "# intersection\n",
    "intersectio_set = []\n",
    "for i in s1:\n",
    "    for j in s2:\n",
    "        if i == j:\n",
    "            intersectio_set.append(i)\n",
    "            print(intersectio_set)\n"
   ]
  },
  {
   "cell_type": "code",
   "execution_count": 2,
   "id": "3cba09e7-cc04-4e81-8259-5b30c183c1ea",
   "metadata": {},
   "outputs": [
    {
     "name": "stdout",
     "output_type": "stream",
     "text": [
      "[1]\n",
      "[1, 1]\n",
      "[1, 1, 1]\n",
      "[1, 1, 1, 2]\n",
      "[1, 1, 1, 2, 2]\n",
      "[1, 1, 1, 2, 2, 3]\n",
      "[1, 1, 1, 2, 2, 3, 3]\n",
      "[1, 1, 1, 2, 2, 3, 3, 3]\n",
      "[1, 1, 1, 2, 2, 3, 3, 3, 4]\n",
      "[1, 1, 1, 2, 2, 3, 3, 3, 4, 4]\n",
      "[1, 1, 1, 2, 2, 3, 3, 3, 4, 4, 5]\n",
      "[1, 1, 1, 2, 2, 3, 3, 3, 4, 4, 5, 5]\n",
      "[1, 1, 1, 2, 2, 3, 3, 3, 4, 4, 5, 5, 5]\n"
     ]
    }
   ],
   "source": [
    "diff_set = []\n",
    "for i in s1:\n",
    "    for j in s2:\n",
    "        if i != j:\n",
    "            diff_set.append(i)\n",
    "            print(diff_set)"
   ]
  },
  {
   "cell_type": "code",
   "execution_count": 13,
   "id": "a1760535-f940-4ffb-b0c3-35896db431ed",
   "metadata": {},
   "outputs": [],
   "source": [
    "#17. Remove a random element from a set (without using pop()).\n",
    "\n",
    "s1.discard(2)"
   ]
  },
  {
   "cell_type": "code",
   "execution_count": null,
   "id": "b0da2efa-a8a3-444e-aac9-bf710f142021",
   "metadata": {},
   "outputs": [],
   "source": []
  },
  {
   "cell_type": "code",
   "execution_count": 20,
   "id": "f2b967f8-4b2c-4894-a86a-561afa0f68c1",
   "metadata": {},
   "outputs": [
    {
     "name": "stdout",
     "output_type": "stream",
     "text": [
      "{1, 2, 3, 4, 5, 7}\n",
      "duplicate remove\n"
     ]
    }
   ],
   "source": [
    "# 18. Convert a list into a set and check if duplicates are removed.\n",
    "\n",
    "my_list = [1,2,3,4,2,3,1,4,5,7]\n",
    "my_set = set(my_list)\n",
    "print(my_set)\n",
    "if my_list == my_set:\n",
    "    print(\"duplicate not remove\")\n",
    "else:\n",
    "    print(\"duplicate remove\")"
   ]
  },
  {
   "cell_type": "code",
   "execution_count": null,
   "id": "1c3dc6fc-429e-465f-8047-1394b4b61a2d",
   "metadata": {},
   "outputs": [],
   "source": []
  },
  {
   "cell_type": "code",
   "execution_count": 31,
   "id": "a45ec8bf-9fbf-4c7d-8652-1095ffe961a9",
   "metadata": {},
   "outputs": [
    {
     "data": {
      "text/plain": [
       "True"
      ]
     },
     "execution_count": 31,
     "metadata": {},
     "output_type": "execute_result"
    }
   ],
   "source": [
    "# 19. Check if two sets are disjoint.\n",
    "\n",
    "A = {1,2}\n",
    "B = {3,4}\n",
    "A.isdisjoint(B)"
   ]
  },
  {
   "cell_type": "code",
   "execution_count": null,
   "id": "8ee009bd-96bd-4bbe-947b-af11c16d1348",
   "metadata": {},
   "outputs": [],
   "source": []
  },
  {
   "cell_type": "code",
   "execution_count": 2,
   "id": "b8e5fb90-003c-4c95-8081-7da9400e4fe9",
   "metadata": {},
   "outputs": [
    {
     "name": "stdout",
     "output_type": "stream",
     "text": [
      "{10}\n"
     ]
    }
   ],
   "source": [
    "# 20. Find the sum of all elements in a set.\n",
    "\n",
    "s = {1,2,3,4}\n",
    "total = sum(s)\n",
    "print({total})"
   ]
  },
  {
   "cell_type": "code",
   "execution_count": null,
   "id": "40aaf8f5-8a94-4142-8054-2715f55826aa",
   "metadata": {},
   "outputs": [],
   "source": []
  },
  {
   "cell_type": "markdown",
   "id": "9713e7c9-f85e-4c1d-8d68-54537755f052",
   "metadata": {
    "jp-MarkdownHeadingCollapsed": true
   },
   "source": [
    "## 5. Dictionary (5 Questions)"
   ]
  },
  {
   "cell_type": "raw",
   "id": "7d5f4281-181f-449b-8354-953430a8a745",
   "metadata": {},
   "source": []
  },
  {
   "cell_type": "code",
   "execution_count": 23,
   "id": "3afc0c5f-aca0-4730-a573-9e4cb978acab",
   "metadata": {},
   "outputs": [
    {
     "name": "stdout",
     "output_type": "stream",
     "text": [
      "april 30\n",
      "feb 28\n",
      "jan 31\n",
      "march 31\n"
     ]
    }
   ],
   "source": [
    "#21. Create a dictionary and print keys in ascending order.\n",
    "\n",
    "\n",
    "d1 = {\"jan\":31, \"feb\": 28, \"march\":31, \"april\":30}\n",
    "for k in sorted (d1.keys()):\n",
    "    print(k, d1[k])\n"
   ]
  },
  {
   "cell_type": "code",
   "execution_count": null,
   "id": "ef123d2b-dd90-4077-a167-ff386591f648",
   "metadata": {},
   "outputs": [],
   "source": []
  },
  {
   "cell_type": "code",
   "execution_count": 24,
   "id": "a1d8ed17-7573-47b5-9f92-4872ecd254f8",
   "metadata": {},
   "outputs": [
    {
     "name": "stdout",
     "output_type": "stream",
     "text": [
      "{'jan': 31, 'feb': 28, 'march': 31, 'april': 30, 'total': 120}\n"
     ]
    }
   ],
   "source": [
    "# 22. Add a new key to a dictionary with value equal to the sum of existing values.\n",
    "\n",
    "d1 = {\"jan\":31, \"feb\": 28, \"march\":31, \"april\":30}\n",
    "d1[\"total\"]= sum(d1.values())\n",
    "print (d1)"
   ]
  },
  {
   "cell_type": "code",
   "execution_count": null,
   "id": "f4c5e291-7dc2-44b7-b881-2bc1485980e9",
   "metadata": {},
   "outputs": [],
   "source": []
  },
  {
   "cell_type": "code",
   "execution_count": 25,
   "id": "5c6a2c42-07f2-4597-a947-3c52093cac92",
   "metadata": {},
   "outputs": [
    {
     "name": "stdout",
     "output_type": "stream",
     "text": [
      "{'jan': 31, 'feb': 28, 'march': 31, 'april': 30, 'a': 12, 'b': 23, 'c': 34, 'd': 45}\n"
     ]
    }
   ],
   "source": [
    "#23. Merge two dictionaries into one.\n",
    "\n",
    "d1 = {\"jan\":31, \"feb\": 28, \"march\":31, \"april\":30}\n",
    "d2 = {\"a\":12,\"b\":23,\"c\":34,\"d\":45}\n",
    "print(d1|d2)"
   ]
  },
  {
   "cell_type": "code",
   "execution_count": null,
   "id": "e32364c3-057f-4071-b192-2d5b2ce2e53f",
   "metadata": {},
   "outputs": [],
   "source": []
  },
  {
   "cell_type": "code",
   "execution_count": 36,
   "id": "e6bc8885-6076-416f-95b2-509443b98a6c",
   "metadata": {},
   "outputs": [
    {
     "name": "stdout",
     "output_type": "stream",
     "text": [
      "jan\n"
     ]
    }
   ],
   "source": [
    "#24. Find the key with the largest value in a dictionary.\n",
    "\n",
    "d = {\"jan\":34, \"feb\": 33, \"march\":33, \"april\":30}\n",
    "a = max(d.items())\n",
    "print(max(d, key=d.get))"
   ]
  },
  {
   "cell_type": "code",
   "execution_count": null,
   "id": "dd25168c-60db-4c69-8e92-6ff213fe2a82",
   "metadata": {},
   "outputs": [],
   "source": []
  },
  {
   "cell_type": "code",
   "execution_count": 37,
   "id": "f71338ec-4f30-4c3e-bffd-1391f65b53f0",
   "metadata": {},
   "outputs": [
    {
     "name": "stdout",
     "output_type": "stream",
     "text": [
      "{'b': 1, 'a': 3, 'n': 2}\n"
     ]
    }
   ],
   "source": [
    "#25. Store the frequency of characters of a string in a dictionary.\n",
    "\n",
    "s = 'banana'\n",
    "freq = {ch: s.count(ch) for ch in set(s)}\n",
    "print(freq)"
   ]
  },
  {
   "cell_type": "code",
   "execution_count": null,
   "id": "e4da4dd4-69e2-44fc-919c-6da7e4e5fb63",
   "metadata": {},
   "outputs": [],
   "source": []
  },
  {
   "cell_type": "markdown",
   "id": "4bf21b9a-2ca8-4900-8250-358b22845bf5",
   "metadata": {
    "jp-MarkdownHeadingCollapsed": true
   },
   "source": [
    "## 6. Conditional Statements"
   ]
  },
  {
   "cell_type": "code",
   "execution_count": null,
   "id": "73af66e3-8c1e-4066-b67b-b19f6f5733ae",
   "metadata": {},
   "outputs": [],
   "source": []
  },
  {
   "cell_type": "code",
   "execution_count": 45,
   "id": "a07914d5-7d3c-41fc-9549-80d41dac1877",
   "metadata": {},
   "outputs": [
    {
     "name": "stdin",
     "output_type": "stream",
     "text": [
      " 15\n"
     ]
    },
    {
     "name": "stdout",
     "output_type": "stream",
     "text": [
      "not eligible \n"
     ]
    }
   ],
   "source": [
    "#26. Take age as input and check if the person is eligible to vote or not.\n",
    "\n",
    "age = int(input())\n",
    "\n",
    "if age >= 18:\n",
    "    print(\"eligible to vote\")\n",
    "else:\n",
    "    print(\"not eligible \")"
   ]
  },
  {
   "cell_type": "code",
   "execution_count": null,
   "id": "729fc75e-2472-4257-93ac-e35a3a1376bf",
   "metadata": {},
   "outputs": [],
   "source": []
  },
  {
   "cell_type": "code",
   "execution_count": 58,
   "id": "54a8c4b4-35a2-4f36-af74-0d73afbbd4d9",
   "metadata": {},
   "outputs": [
    {
     "name": "stdin",
     "output_type": "stream",
     "text": [
      " 12\n",
      " 151\n",
      " 3\n"
     ]
    },
    {
     "name": "stdout",
     "output_type": "stream",
     "text": [
      "151 is big\n"
     ]
    }
   ],
   "source": [
    "#27. Find the largest among three numbers (using nested if)..\n",
    "\n",
    "\n",
    "\n",
    "num1 = int(input())\n",
    "num2 = int(input())\n",
    "num3 = int(input())\n",
    "\n",
    "if num1 > num2:\n",
    "    if num1> num3:\n",
    "        print(num1, \"is big\")\n",
    "else:\n",
    "    if num2 > num3:\n",
    "        print(num2, \"is big\")\n",
    "    else:\n",
    "        print(num3, \"is big\")\n",
    "\n"
   ]
  },
  {
   "cell_type": "code",
   "execution_count": null,
   "id": "92c46f6f-938f-4380-859e-a89705d704e9",
   "metadata": {},
   "outputs": [],
   "source": []
  },
  {
   "cell_type": "code",
   "execution_count": 80,
   "id": "5496b4a8-7072-4e56-b38c-7194c46166e1",
   "metadata": {},
   "outputs": [
    {
     "name": "stdin",
     "output_type": "stream",
     "text": [
      "enter a number 11\n"
     ]
    },
    {
     "name": "stdout",
     "output_type": "stream",
     "text": [
      "11  is a prime num\n"
     ]
    }
   ],
   "source": [
    "#28. Check if a given number is prime or not.\n",
    "\n",
    "\n",
    "num = int(input(\"enter a number\"))\n",
    "for i in range (2,num):\n",
    "    if num%i == 0:\n",
    "        print(num, \" is a not prime num\")\n",
    "        break\n",
    "else:\n",
    "    print(num,\" is a prime num\")"
   ]
  },
  {
   "cell_type": "code",
   "execution_count": null,
   "id": "42976bf8-28d9-44e7-baa6-068e2d6b6848",
   "metadata": {},
   "outputs": [],
   "source": []
  },
  {
   "cell_type": "code",
   "execution_count": 83,
   "id": "9a8d8368-f388-4908-a783-a75a4ae90525",
   "metadata": {},
   "outputs": [
    {
     "name": "stdin",
     "output_type": "stream",
     "text": [
      " 75\n"
     ]
    },
    {
     "name": "stdout",
     "output_type": "stream",
     "text": [
      "A\n"
     ]
    }
   ],
   "source": [
    "#29. Assign grade (A, B, C, Fail) based on marks input.\n",
    "\n",
    "marks = int(input())\n",
    "if marks < 85:\n",
    "    print(\"A\")\n",
    "else:\n",
    "    if marks < 65:\n",
    "        print(\"B\")\n",
    "    else:\n",
    "        if marks < 45:\n",
    "            print(\"C\")\n",
    "        else:\n",
    "            print(\"FAIL\")     "
   ]
  },
  {
   "cell_type": "code",
   "execution_count": null,
   "id": "c9231af5-dfd1-4467-9d4b-a3eb4eec39b5",
   "metadata": {},
   "outputs": [],
   "source": []
  },
  {
   "cell_type": "code",
   "execution_count": 6,
   "id": "ee5a255d-f0e6-488e-9c48-7f0b5d9be22d",
   "metadata": {},
   "outputs": [
    {
     "name": "stdin",
     "output_type": "stream",
     "text": [
      "enter the num. 0\n"
     ]
    },
    {
     "name": "stdout",
     "output_type": "stream",
     "text": [
      "0 it is your furture 🤣\n"
     ]
    }
   ],
   "source": [
    "#30. Check if a number is positive, negative, or zero.\n",
    "\n",
    "num = int(input(\"enter the num.\"))\n",
    "if num >=1:\n",
    "    print(num,\"is a positive number\")\n",
    "elif num == 0:\n",
    "    print(num,\"it is your furture 🤣\")\n",
    "else:\n",
    "    print(num,\"is a negative number\")"
   ]
  },
  {
   "cell_type": "code",
   "execution_count": null,
   "id": "41b83da1-bbaf-4cf6-8e53-e1a49a5a2433",
   "metadata": {},
   "outputs": [],
   "source": []
  },
  {
   "cell_type": "code",
   "execution_count": null,
   "id": "79896fd7-ba50-453d-91b7-d133787fdfd3",
   "metadata": {},
   "outputs": [],
   "source": []
  },
  {
   "cell_type": "markdown",
   "id": "0c315e40-1dbe-477d-8e5b-c04ebfcbd137",
   "metadata": {
    "jp-MarkdownHeadingCollapsed": true
   },
   "source": [
    "## 7. Loops – For & While\n"
   ]
  },
  {
   "cell_type": "code",
   "execution_count": null,
   "id": "39b00493-b7ba-4756-940e-8d6076796cc3",
   "metadata": {},
   "outputs": [],
   "source": []
  },
  {
   "cell_type": "code",
   "execution_count": 38,
   "id": "d16e1ffe-3590-452e-af38-48855b2a9ea7",
   "metadata": {},
   "outputs": [
    {
     "name": "stdout",
     "output_type": "stream",
     "text": [
      "0 1 1 2 3 5 8 13 21 34 "
     ]
    }
   ],
   "source": [
    "#31. Print the first 10 numbers of the Fibonacci series using for loop.\n",
    "\n",
    "a,b = 0,1\n",
    "for i in range (10):\n",
    "    print(a, end=\" \")\n",
    "    a,b = b, a+b"
   ]
  },
  {
   "cell_type": "code",
   "execution_count": null,
   "id": "74d93394-74aa-4541-977f-8a8b252b4e0c",
   "metadata": {},
   "outputs": [],
   "source": []
  },
  {
   "cell_type": "code",
   "execution_count": 39,
   "id": "96d3ee46-43f8-4200-99b3-eb3afecb7da2",
   "metadata": {},
   "outputs": [
    {
     "name": "stdin",
     "output_type": "stream",
     "text": [
      " 55\n"
     ]
    },
    {
     "name": "stdout",
     "output_type": "stream",
     "text": [
      "12696403353658275925965100847566516959580321051449436762275840000000000000\n"
     ]
    }
   ],
   "source": [
    "#32. Find the factorial of a number using while loop.\n",
    "\n",
    "from math import factorial\n",
    "print(factorial(int(input())))"
   ]
  },
  {
   "cell_type": "code",
   "execution_count": null,
   "id": "4c183718-3d21-49e1-93ac-ba789732e9bf",
   "metadata": {},
   "outputs": [],
   "source": []
  },
  {
   "cell_type": "code",
   "execution_count": 40,
   "id": "e6ab2fbd-e04a-4f4d-9add-be3a2a62c6c1",
   "metadata": {},
   "outputs": [
    {
     "name": "stdin",
     "output_type": "stream",
     "text": [
      " 12\n"
     ]
    },
    {
     "name": "stdout",
     "output_type": "stream",
     "text": [
      "3\n"
     ]
    }
   ],
   "source": [
    "#33. Input a number and find the sum of its digits using while loop.\n",
    "n= int(input())\n",
    "s = 0\n",
    "while n>0:\n",
    "    s+= n%10\n",
    "    n//=10\n",
    "print(s) "
   ]
  },
  {
   "cell_type": "code",
   "execution_count": null,
   "id": "e3d231cc-ef29-4a0f-bd6c-b512cfbde4c0",
   "metadata": {},
   "outputs": [],
   "source": []
  },
  {
   "cell_type": "code",
   "execution_count": 41,
   "id": "51714bf6-a800-4af6-b1fa-1322819658da",
   "metadata": {},
   "outputs": [
    {
     "name": "stdout",
     "output_type": "stream",
     "text": [
      "[1, 2, 3, 4, 5, 6, 7]\n"
     ]
    }
   ],
   "source": [
    "#34. Print all elements of a list in reverse order without using reverse().\n",
    "\n",
    "\n",
    "l1 = [1,2,3,4,5,6,7]\n",
    "l1[::-1]\n",
    "print(l1)"
   ]
  },
  {
   "cell_type": "code",
   "execution_count": null,
   "id": "69f6101d-5f67-48f6-a00f-44f3e65e7e1b",
   "metadata": {},
   "outputs": [],
   "source": []
  },
  {
   "cell_type": "code",
   "execution_count": 44,
   "id": "641282ff-25d3-4916-b050-df70da6b8c65",
   "metadata": {},
   "outputs": [],
   "source": [
    "#35. Print a star pattern (triangle) using nested loops.\n",
    "\n",
    "row = 5 \n",
    "k= 0 \n",
    "\n",
    "for i in range(1, row, 1):\n",
    "    for j in range(k, 0, -1):\n",
    "        k= k+1\n",
    "        for j in range (0, i+1):\n",
    "            print(\"*\", end= \" \")\n",
    "        print()"
   ]
  },
  {
   "cell_type": "code",
   "execution_count": null,
   "id": "7b6571c0-a536-44f8-852e-c3598035644f",
   "metadata": {},
   "outputs": [],
   "source": []
  },
  {
   "cell_type": "markdown",
   "id": "7b53324c-221f-4c98-838c-c907c57d7a83",
   "metadata": {
    "jp-MarkdownHeadingCollapsed": true
   },
   "source": [
    "## 8. File Handling"
   ]
  },
  {
   "cell_type": "code",
   "execution_count": null,
   "id": "909d7962-0a34-45d8-a679-7dcda95cce05",
   "metadata": {},
   "outputs": [],
   "source": []
  },
  {
   "cell_type": "code",
   "execution_count": 3,
   "id": "8740279b-2a52-4120-9c0d-cdd287703f15",
   "metadata": {},
   "outputs": [],
   "source": [
    "#36. Write some text into a file and then read and print it.\n",
    "\n",
    "\n",
    "with open (\"test.txt\",\"w\") as f:\n",
    "    f.write(\"Print the first 10 numbers of the Fibonacci series using for loop.\")\n",
    "    f.close\n"
   ]
  },
  {
   "cell_type": "code",
   "execution_count": 14,
   "id": "11ed0667-0366-4858-a310-4ce8095d91ce",
   "metadata": {},
   "outputs": [
    {
     "name": "stdout",
     "output_type": "stream",
     "text": [
      "3\n"
     ]
    }
   ],
   "source": [
    "\n",
    "\n",
    "#37. Count the total number of lines in a file.\n",
    "\n",
    "\n",
    "with open(\"test.txt\") as f:\n",
    "    lines = f.readlines()\n",
    "    print(len(lines))\n"
   ]
  },
  {
   "cell_type": "code",
   "execution_count": null,
   "id": "939b44a8-1ae8-49ed-aa8b-08226182a45b",
   "metadata": {},
   "outputs": [],
   "source": []
  },
  {
   "cell_type": "code",
   "execution_count": 23,
   "id": "29edfb0e-6bc0-4f8d-b1fb-68dda1683716",
   "metadata": {},
   "outputs": [
    {
     "name": "stdout",
     "output_type": "stream",
     "text": [
      "7 24\n"
     ]
    }
   ],
   "source": [
    "#38. Count vowels and consonants in a file.\n",
    "\n",
    "\n",
    "\n",
    "with open (\"text.txt\") as f:\n",
    "    text= f.read().lower()\n",
    "vowel = sum(ch in \"aeiou\" for ch in text)\n",
    "consonants = sum(ch.isalpha() and ch not in \"aeiou\" for ch in text)\n",
    "print(vowel, consonants)"
   ]
  },
  {
   "cell_type": "code",
   "execution_count": null,
   "id": "25a6e260-6de6-4b90-b2d1-ad9dbecef877",
   "metadata": {},
   "outputs": [],
   "source": []
  },
  {
   "cell_type": "code",
   "execution_count": 15,
   "id": "aaface8a-8e1d-48f7-b671-201c91c89404",
   "metadata": {},
   "outputs": [],
   "source": [
    "#39. Convert the content of a file into uppercase and store it in another file\n",
    "\n",
    "with open (\"test.txt\") as f:\n",
    "    data = f.read().upper()\n",
    "with open(\"upper.txt\", \"w\") as f:\n",
    "    f.write(data)"
   ]
  },
  {
   "cell_type": "code",
   "execution_count": null,
   "id": "ae17524c-f4dc-4105-8dda-abd13ee4a49d",
   "metadata": {},
   "outputs": [],
   "source": []
  },
  {
   "cell_type": "code",
   "execution_count": 17,
   "id": "ade49b0a-efd1-4f46-b3f8-1d30a02e91f8",
   "metadata": {},
   "outputs": [
    {
     "ename": "FileNotFoundError",
     "evalue": "[Errno 2] No such file or directory: 'sample.csv'",
     "output_type": "error",
     "traceback": [
      "\u001b[1;31m---------------------------------------------------------------------------\u001b[0m",
      "\u001b[1;31mFileNotFoundError\u001b[0m                         Traceback (most recent call last)",
      "Cell \u001b[1;32mIn[17], line 4\u001b[0m\n\u001b[0;32m      1\u001b[0m \u001b[38;5;66;03m#40. Read a CSV file and print its rows.\u001b[39;00m\n\u001b[0;32m      3\u001b[0m \u001b[38;5;28;01mimport\u001b[39;00m\u001b[38;5;250m \u001b[39m\u001b[38;5;21;01mcsv\u001b[39;00m\n\u001b[1;32m----> 4\u001b[0m \u001b[38;5;28;01mwith\u001b[39;00m \u001b[38;5;28mopen\u001b[39m (\u001b[38;5;124m\"\u001b[39m\u001b[38;5;124msample.csv\u001b[39m\u001b[38;5;124m\"\u001b[39m, newline\u001b[38;5;241m=\u001b[39m\u001b[38;5;124m\"\u001b[39m\u001b[38;5;124m\"\u001b[39m) \u001b[38;5;28;01mas\u001b[39;00m f:\n\u001b[0;32m      5\u001b[0m     reader \u001b[38;5;241m=\u001b[39m csv\u001b[38;5;241m.\u001b[39mreader(f)\n\u001b[0;32m      6\u001b[0m     \u001b[38;5;28;01mfor\u001b[39;00m row \u001b[38;5;129;01min\u001b[39;00m reader:\n",
      "File \u001b[1;32m~\\anaconda3\\Lib\\site-packages\\IPython\\core\\interactiveshell.py:324\u001b[0m, in \u001b[0;36m_modified_open\u001b[1;34m(file, *args, **kwargs)\u001b[0m\n\u001b[0;32m    317\u001b[0m \u001b[38;5;28;01mif\u001b[39;00m file \u001b[38;5;129;01min\u001b[39;00m {\u001b[38;5;241m0\u001b[39m, \u001b[38;5;241m1\u001b[39m, \u001b[38;5;241m2\u001b[39m}:\n\u001b[0;32m    318\u001b[0m     \u001b[38;5;28;01mraise\u001b[39;00m \u001b[38;5;167;01mValueError\u001b[39;00m(\n\u001b[0;32m    319\u001b[0m         \u001b[38;5;124mf\u001b[39m\u001b[38;5;124m\"\u001b[39m\u001b[38;5;124mIPython won\u001b[39m\u001b[38;5;124m'\u001b[39m\u001b[38;5;124mt let you open fd=\u001b[39m\u001b[38;5;132;01m{\u001b[39;00mfile\u001b[38;5;132;01m}\u001b[39;00m\u001b[38;5;124m by default \u001b[39m\u001b[38;5;124m\"\u001b[39m\n\u001b[0;32m    320\u001b[0m         \u001b[38;5;124m\"\u001b[39m\u001b[38;5;124mas it is likely to crash IPython. If you know what you are doing, \u001b[39m\u001b[38;5;124m\"\u001b[39m\n\u001b[0;32m    321\u001b[0m         \u001b[38;5;124m\"\u001b[39m\u001b[38;5;124myou can use builtins\u001b[39m\u001b[38;5;124m'\u001b[39m\u001b[38;5;124m open.\u001b[39m\u001b[38;5;124m\"\u001b[39m\n\u001b[0;32m    322\u001b[0m     )\n\u001b[1;32m--> 324\u001b[0m \u001b[38;5;28;01mreturn\u001b[39;00m io_open(file, \u001b[38;5;241m*\u001b[39margs, \u001b[38;5;241m*\u001b[39m\u001b[38;5;241m*\u001b[39mkwargs)\n",
      "\u001b[1;31mFileNotFoundError\u001b[0m: [Errno 2] No such file or directory: 'sample.csv'"
     ]
    }
   ],
   "source": [
    "#40. Read a CSV file and print its rows.\n",
    "\n",
    "import csv\n",
    "with open (\"sample.csv\", newline=\"\") as f:\n",
    "    reader = csv.reader(f)\n",
    "    for row in reader:\n",
    "        priint(row)"
   ]
  },
  {
   "cell_type": "markdown",
   "id": "03e3bf37-0d2a-4662-a3ef-e951bf2c9313",
   "metadata": {
    "jp-MarkdownHeadingCollapsed": true
   },
   "source": [
    "## 9. OS Module"
   ]
  },
  {
   "cell_type": "code",
   "execution_count": 1,
   "id": "fb7ee02f-8993-4cbc-8d55-0e73c310a432",
   "metadata": {},
   "outputs": [],
   "source": [
    "import os"
   ]
  },
  {
   "cell_type": "code",
   "execution_count": 30,
   "id": "e2004e02-0145-496d-a586-19684cd5c871",
   "metadata": {},
   "outputs": [
    {
     "data": {
      "text/plain": [
       "'C:\\\\Users\\\\HP\\\\CS_1.30_Batch\\\\python'"
      ]
     },
     "execution_count": 30,
     "metadata": {},
     "output_type": "execute_result"
    }
   ],
   "source": [
    "# 41. Print the current working directory using os modul\n",
    "\n",
    "os.getcwd()"
   ]
  },
  {
   "cell_type": "code",
   "execution_count": null,
   "id": "a3d64be8-1ba9-453f-8d87-081dcf5cda7a",
   "metadata": {},
   "outputs": [],
   "source": []
  },
  {
   "cell_type": "code",
   "execution_count": 28,
   "id": "c344288a-5661-4176-83ee-15cba2028c7b",
   "metadata": {},
   "outputs": [],
   "source": [
    "# 42. Create a new folder using os module and create a file inside it.\n",
    "\n",
    "os.chdir(\"D:\\\\Desktop\")\n",
    "os.mkdir(\"new_folder\")\n",
    "os.chdir(\"D:\\\\Desktop\\\\new_folder\")\n",
    "\n"
   ]
  },
  {
   "cell_type": "code",
   "execution_count": 30,
   "id": "f7795cf4-c426-4da3-990f-d31f54adc875",
   "metadata": {},
   "outputs": [
    {
     "name": "stdout",
     "output_type": "stream",
     "text": [
      "Writing new_file.txt\n"
     ]
    }
   ],
   "source": [
    "%%writefile new_file.txt\n",
    "!hello python"
   ]
  },
  {
   "cell_type": "code",
   "execution_count": null,
   "id": "b5902760-166d-4c9d-a464-e827e07f354f",
   "metadata": {},
   "outputs": [],
   "source": []
  },
  {
   "cell_type": "code",
   "execution_count": 8,
   "id": "94a78b54-51a7-4d1e-b97f-701a416f96c4",
   "metadata": {},
   "outputs": [
    {
     "data": {
      "text/plain": [
       "['desktop.ini',\n",
       " 'Document',\n",
       " 'Excel.lnk',\n",
       " 'Harsh - Chrome (2).lnk',\n",
       " 'Harsh - Chrome.lnk',\n",
       " 'Jasmeet - Chrome.lnk',\n",
       " 'Newfolder',\n",
       " 'PowerPoint.lnk',\n",
       " 'python',\n",
       " 'Telegram.lnk',\n",
       " 'Word.lnk']"
      ]
     },
     "execution_count": 8,
     "metadata": {},
     "output_type": "execute_result"
    }
   ],
   "source": [
    "# 43. List all files and folders inside a directory.\n",
    "\n",
    "os.chdir(\"D:\\\\Desktop\")\n",
    "os.listdir()"
   ]
  },
  {
   "cell_type": "code",
   "execution_count": null,
   "id": "bc3fc4e3-78f1-4bb4-9645-00d5503ebc56",
   "metadata": {},
   "outputs": [],
   "source": []
  },
  {
   "cell_type": "code",
   "execution_count": 18,
   "id": "106781e0-2af8-4629-b230-279186dc7c39",
   "metadata": {},
   "outputs": [
    {
     "name": "stdout",
     "output_type": "stream",
     "text": [
      "0\n"
     ]
    }
   ],
   "source": [
    "# 44. Check the size of a file using os module.\n",
    "\n",
    "\n",
    "file_path = \"D:\\\\Desktop\\\\Newfolder\" \n",
    "file_size_bytes = os.path.getsize(file_path)\n",
    "print(file_size_bytes)"
   ]
  },
  {
   "cell_type": "code",
   "execution_count": null,
   "id": "0450ac67-0dc4-43e9-9a4e-2fb4b9fb3608",
   "metadata": {},
   "outputs": [],
   "source": [
    "http://localhost:8888/tree/CS_1.30_Batch/python"
   ]
  },
  {
   "cell_type": "code",
   "execution_count": 26,
   "id": "437af21f-ddb6-4309-afb7-057498eefa28",
   "metadata": {},
   "outputs": [
    {
     "data": {
      "text/plain": [
       "['desktop.ini',\n",
       " 'Document',\n",
       " 'Excel.lnk',\n",
       " 'file1.txt',\n",
       " 'file10.txt',\n",
       " 'file2.txt',\n",
       " 'file3.txt',\n",
       " 'file4.txt',\n",
       " 'file5.txt',\n",
       " 'file6.txt',\n",
       " 'file7.txt',\n",
       " 'file8.txt',\n",
       " 'file9.txt',\n",
       " 'Harsh - Chrome (2).lnk',\n",
       " 'Harsh - Chrome.lnk',\n",
       " 'Jasmeet - Chrome.lnk',\n",
       " 'Newfolder',\n",
       " 'PowerPoint.lnk',\n",
       " 'python',\n",
       " 'Telegram.lnk',\n",
       " 'Word.lnk']"
      ]
     },
     "execution_count": 26,
     "metadata": {},
     "output_type": "execute_result"
    }
   ],
   "source": [
    "# 45. Count all .txt files in a directory.\n",
    "\n",
    "os.listdir()"
   ]
  },
  {
   "cell_type": "code",
   "execution_count": 27,
   "id": "470d3bbb-e014-493f-8172-33869259882b",
   "metadata": {},
   "outputs": [],
   "source": [
    "for i in range(1, 11):\n",
    "    with open(f'file{i}.txt', 'w') as f:\n",
    "        f.write(f'This is file number {i}')"
   ]
  },
  {
   "cell_type": "code",
   "execution_count": null,
   "id": "4e9119c4-529d-446e-9d98-554e31452d6d",
   "metadata": {},
   "outputs": [],
   "source": []
  },
  {
   "cell_type": "markdown",
   "id": "7824525b-1011-461e-b9b8-4b33bf98d56b",
   "metadata": {},
   "source": [
    "## 10. Try-Exception"
   ]
  },
  {
   "cell_type": "code",
   "execution_count": null,
   "id": "7ac3b0e1-10d1-4076-a915-56de1ac16b5d",
   "metadata": {},
   "outputs": [],
   "source": []
  },
  {
   "cell_type": "code",
   "execution_count": 7,
   "id": "2343c47c-f071-4268-9863-370208bfa807",
   "metadata": {},
   "outputs": [
    {
     "name": "stdin",
     "output_type": "stream",
     "text": [
      " hello\n"
     ]
    },
    {
     "name": "stdout",
     "output_type": "stream",
     "text": [
      "Invalid input. Please enter a valid number.\n"
     ]
    }
   ],
   "source": [
    "# 46. Write a program that takes user input and prints its square. Handle errors if input is invalid.\n",
    "\n",
    "try:\n",
    "    user = int(input())\n",
    "    num  = float(user)\n",
    "    square = num ** 2\n",
    "    print(square)\n",
    "except ValueError:\n",
    "    print(\"Invalid input. Please enter a valid number.\")"
   ]
  },
  {
   "cell_type": "code",
   "execution_count": null,
   "id": "c5de206c-07c1-4b05-9a76-7c4fc9866c65",
   "metadata": {},
   "outputs": [],
   "source": []
  },
  {
   "cell_type": "code",
   "execution_count": 8,
   "id": "96a876b1-d19d-4f35-8d88-b49e4b652c8d",
   "metadata": {},
   "outputs": [
    {
     "name": "stdin",
     "output_type": "stream",
     "text": [
      "Enter a number:  0\n"
     ]
    },
    {
     "name": "stdout",
     "output_type": "stream",
     "text": [
      "Cannot divide by zero. Please enter a non-zero number.\n"
     ]
    }
   ],
   "source": [
    "# 47. Handle ZeroDivisionError with an example program.\n",
    "\n",
    "\n",
    "try:\n",
    "    x = int(input(\"Enter a number: \"))\n",
    "    y = 10 / x\n",
    "    print(f\"Result: {y}\")\n",
    "except ValueError:\n",
    "    print(\"Invalid input. Please enter a valid integer.\")\n",
    "except ZeroDivisionError:\n",
    "    print(\"Cannot divide by zero. Please enter a non-zero number.\")\n",
    "except Exception as e:\n",
    "    print(f\"Error occurred: {e}\")\n",
    "    "
   ]
  },
  {
   "cell_type": "code",
   "execution_count": null,
   "id": "244018e3-96df-47f9-9292-65f7a4dfa44f",
   "metadata": {},
   "outputs": [],
   "source": []
  },
  {
   "cell_type": "code",
   "execution_count": 14,
   "id": "af8036e0-6033-43e2-afeb-b13ca73b6f8e",
   "metadata": {},
   "outputs": [
    {
     "name": "stdout",
     "output_type": "stream",
     "text": [
      "An unexpected error occurred: name 'filename' is not defined\n"
     ]
    }
   ],
   "source": [
    "# 48. Handle FileNotFoundError with an example program.\n",
    "\n",
    "try:\n",
    "    with open(filename, 'r')as file:\n",
    "        content = file.read()\n",
    "        print(content)\n",
    "except FileNotFoundError:\n",
    "    print(f\"Error: The file '{filename}' was not found.\")\n",
    "    print(\"please ensure the file exists and the path is correct\")\n",
    "except Exception as e:\n",
    "    print(f\"An unexpected error occurred: {e}\")"
   ]
  },
  {
   "cell_type": "code",
   "execution_count": null,
   "id": "798ae67e-0c86-4e42-9c2c-80b1a7d3fe61",
   "metadata": {},
   "outputs": [],
   "source": []
  },
  {
   "cell_type": "code",
   "execution_count": 17,
   "id": "796b2db5-1dca-43a4-855a-eecdf9c74b1e",
   "metadata": {},
   "outputs": [
    {
     "name": "stdin",
     "output_type": "stream",
     "text": [
      " yy\n"
     ]
    },
    {
     "name": "stdout",
     "output_type": "stream",
     "text": [
      "an error occured: invalid literal for int() with base 10: 'yy'\n"
     ]
    }
   ],
   "source": [
    "# 49. Handle both ValueError and TypeError with an example.\n",
    "\n",
    "try:\n",
    "    num = int(input())\n",
    "    if num < 0:\n",
    "        raise ValueError(\"input cannot be a negative number\")\n",
    "    print(f\"Successfully processed number: {num}\")\n",
    "\n",
    "except (ValueError, TypeError) as e:\n",
    "    print(f\"an error occured: {e}\")"
   ]
  },
  {
   "cell_type": "code",
   "execution_count": null,
   "id": "443cf107-b5bc-4712-811c-a96d90d4a0b2",
   "metadata": {},
   "outputs": [],
   "source": []
  },
  {
   "cell_type": "code",
   "execution_count": 19,
   "id": "5518efee-72c1-4131-93ad-5593add7da33",
   "metadata": {},
   "outputs": [
    {
     "name": "stdout",
     "output_type": "stream",
     "text": [
      "Content written to 'example.txt'\n",
      "File 'example.txt' has been closed.\n"
     ]
    }
   ],
   "source": [
    "# 50. Write a program with finally block that opens and closes a file\n",
    "\n",
    "file_object = None  \n",
    "try:\n",
    "  \n",
    "    file_object = open(\"example.txt\", \"w\")\n",
    "    file_object.write(\"This is a line written to the file.\\n\")\n",
    "    file_object.write(\"Another line.\\n\")\n",
    "    print(\"Content written to 'example.txt'\")\n",
    "except Exception as e:\n",
    "    print(f\"An unexpected error occurred: {e}\")\n",
    "finally:\n",
    "    # This block will always execute, regardless of whether an exception occurred\n",
    "    if file_object:  # Check if the file object was successfully created\n",
    "        file_object.close()\n",
    "        print(\"File 'example.txt' has been closed.\")\n",
    "    else:\n",
    "        print(\"File object was not created, nothing to close.\")"
   ]
  },
  {
   "cell_type": "code",
   "execution_count": null,
   "id": "6434d6e1-0e84-43a2-9b1c-f430a93a9791",
   "metadata": {},
   "outputs": [],
   "source": []
  }
 ],
 "metadata": {
  "kernelspec": {
   "display_name": "Python 3 (ipykernel)",
   "language": "python",
   "name": "python3"
  },
  "language_info": {
   "codemirror_mode": {
    "name": "ipython",
    "version": 3
   },
   "file_extension": ".py",
   "mimetype": "text/x-python",
   "name": "python",
   "nbconvert_exporter": "python",
   "pygments_lexer": "ipython3",
   "version": "3.13.5"
  }
 },
 "nbformat": 4,
 "nbformat_minor": 5
}
